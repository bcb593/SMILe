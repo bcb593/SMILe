{
 "cells": [
  {
   "cell_type": "code",
   "execution_count": 2,
   "id": "66e7d90e",
   "metadata": {},
   "outputs": [
    {
     "ename": "ModuleNotFoundError",
     "evalue": "No module named 'openchem'",
     "output_type": "error",
     "traceback": [
      "\u001b[0;31m---------------------------------------------------------------------------\u001b[0m",
      "\u001b[0;31mModuleNotFoundError\u001b[0m                       Traceback (most recent call last)",
      "\u001b[0;32m<ipython-input-2-37bc87dfa2b8>\u001b[0m in \u001b[0;36m<module>\u001b[0;34m\u001b[0m\n\u001b[1;32m      1\u001b[0m \u001b[0;32mimport\u001b[0m \u001b[0mnumpy\u001b[0m \u001b[0;32mas\u001b[0m \u001b[0mnp\u001b[0m\u001b[0;34m\u001b[0m\u001b[0;34m\u001b[0m\u001b[0m\n\u001b[0;32m----> 2\u001b[0;31m \u001b[0;32mfrom\u001b[0m \u001b[0mopenchem\u001b[0m\u001b[0;34m.\u001b[0m\u001b[0mdata\u001b[0m\u001b[0;34m.\u001b[0m\u001b[0mutils\u001b[0m \u001b[0;32mimport\u001b[0m \u001b[0mread_smiles_property_file\u001b[0m\u001b[0;34m\u001b[0m\u001b[0;34m\u001b[0m\u001b[0m\n\u001b[0m\u001b[1;32m      3\u001b[0m data = read_smiles_property_file('./benchmark_datasets/tox21/tox21.csv',\n\u001b[1;32m      4\u001b[0m                                  cols_to_read=[13] + list(range(0,12)))\n",
      "\u001b[0;31mModuleNotFoundError\u001b[0m: No module named 'openchem'"
     ]
    }
   ],
   "source": [
    "import numpy as np\n",
    "from openchem.data.utils import read_smiles_property_file\n",
    "data = read_smiles_property_file('./benchmark_datasets/tox21/tox21.csv',\n",
    "                                 cols_to_read=[13] + list(range(0,12)))"
   ]
  },
  {
   "cell_type": "code",
   "execution_count": 8,
   "id": "70e2432a",
   "metadata": {},
   "outputs": [],
   "source": [
    "from tensorflow import keras\n",
    "from keras import Sequential\n",
    "from keras.layers import Embedding, Dense"
   ]
  },
  {
   "cell_type": "code",
   "execution_count": 7,
   "id": "2d75e73f",
   "metadata": {},
   "outputs": [],
   "source": [
    "model=Sequential() "
   ]
  },
  {
   "cell_type": "code",
   "execution_count": null,
   "id": "5a67cca0",
   "metadata": {},
   "outputs": [],
   "source": []
  }
 ],
 "metadata": {
  "kernelspec": {
   "display_name": "Python 3",
   "language": "python",
   "name": "python3"
  },
  "language_info": {
   "codemirror_mode": {
    "name": "ipython",
    "version": 3
   },
   "file_extension": ".py",
   "mimetype": "text/x-python",
   "name": "python",
   "nbconvert_exporter": "python",
   "pygments_lexer": "ipython3",
   "version": "3.8.8"
  }
 },
 "nbformat": 4,
 "nbformat_minor": 5
}
